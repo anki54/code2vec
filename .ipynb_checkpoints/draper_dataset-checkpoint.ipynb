{
 "cells": [
  {
   "cell_type": "code",
   "execution_count": 1,
   "metadata": {},
   "outputs": [],
   "source": [
    "import h5py"
   ]
  },
  {
   "cell_type": "code",
   "execution_count": 9,
   "metadata": {},
   "outputs": [
    {
     "name": "stdout",
     "output_type": "stream",
     "text": [
      "Keys: <KeysViewHDF5 ['CWE-119', 'CWE-120', 'CWE-469', 'CWE-476', 'CWE-other', 'functionSource']>\n",
      "clear_area(int startx, int starty, int xsize, int ysize)\n",
      "{\n",
      "  int x;\n",
      "\n",
      "  TRACE_LOG(\"Clearing area %d,%d / %d,%d\\n\", startx, starty, xsize, ysize);\n",
      "\n",
      "  while (ysize > 0)\n",
      "  {\n",
      "    x = xsize;\n",
      "    while (x > 0)\n",
      "    {\n",
      "      mvaddch(starty + ysize - 2, startx + x - 2, ' ');\n",
      "      x--;\n",
      "    }\n",
      "    ysize--;\n",
      "  }\n",
      "}\n",
      "ReconstructDuList(Statement* head)\n",
      "{\n",
      "    Statement* spt;\n",
      "\n",
      "    for (spt = head; spt != NULL; spt = spt->next) {\n",
      "\tdelete_def_use_list(spt->use_var_list);\n",
      "\tdelete_def_use_list(spt->def_var_list);\n",
      "\tdelete_def_use_list(spt->use_array_list);\n",
      "\tdelete_def_use_list(spt->def_array_list);\n",
      "\tspt->def_var_list = NULL;\n",
      "\tspt->use_var_list = NULL;\n",
      "\tspt->def_array_list = NULL;\n",
      "\tspt->use_array_list = NULL;\n",
      "    }\n",
      "    def_use_statement(head);\n",
      "}\n"
     ]
    }
   ],
   "source": [
    "filename = 'VDISC_train.hdf5'\n",
    "f = h5py.File(filename, 'r')\n",
    "\n",
    "# List all groups\n",
    "print(\"Keys: %s\" % f.keys())\n",
    "a_group_key = list(f.keys())[0]\n",
    "\n",
    "# Get the data\n",
    "data = f['functionSource']\n",
    "print(data[0])\n",
    "print(data[1])"
   ]
  },
  {
   "cell_type": "code",
   "execution_count": null,
   "metadata": {},
   "outputs": [],
   "source": []
  }
 ],
 "metadata": {
  "kernelspec": {
   "display_name": "Python 3",
   "language": "python",
   "name": "python3"
  },
  "language_info": {
   "codemirror_mode": {
    "name": "ipython",
    "version": 3
   },
   "file_extension": ".py",
   "mimetype": "text/x-python",
   "name": "python",
   "nbconvert_exporter": "python",
   "pygments_lexer": "ipython3",
   "version": "3.7.3"
  }
 },
 "nbformat": 4,
 "nbformat_minor": 2
}
